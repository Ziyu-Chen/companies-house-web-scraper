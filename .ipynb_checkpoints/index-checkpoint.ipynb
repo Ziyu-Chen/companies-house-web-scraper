{
 "cells": [
  {
   "cell_type": "code",
   "execution_count": 18,
   "metadata": {},
   "outputs": [],
   "source": [
    "import requests\n",
    "import pandas as pd\n",
    "from bs4 import BeautifulSoup\n",
    "import jellyfish\n",
    "import random\n",
    "import re"
   ]
  },
  {
   "cell_type": "code",
   "execution_count": 11,
   "metadata": {},
   "outputs": [],
   "source": [
    "companies_path = 'assignment/companies-house-web-scraper/companies.csv'"
   ]
  },
  {
   "cell_type": "code",
   "execution_count": 3,
   "metadata": {},
   "outputs": [],
   "source": [
    "# import csv\n",
    "# companies = []\n",
    "# with open(companies_path) as companies_file:\n",
    "#     companies_reader = csv.DictReader(companies_file)\n",
    "#     for row in companies_reader:\n",
    "#         companies.append(dict(row))"
   ]
  },
  {
   "cell_type": "code",
   "execution_count": null,
   "metadata": {},
   "outputs": [],
   "source": [
    "companies = pd.read_csv(companies_path)\n",
    "#companies.loc[(companies['city'] == '') & (companies['officer'] == '')]\n",
    "companies.iloc[0]"
   ]
  },
  {
   "cell_type": "code",
   "execution_count": 12,
   "metadata": {},
   "outputs": [],
   "source": [
    "def chooseHeaderRandomly():\n",
    "    user_agent_list = [\n",
    "    #Chrome\n",
    "    'Mozilla/5.0 (Windows NT 10.0; Win64; x64) AppleWebKit/537.36 (KHTML, like Gecko) Chrome/60.0.3112.113 Safari/537.36',\n",
    "    'Mozilla/5.0 (Windows NT 6.1; Win64; x64) AppleWebKit/537.36 (KHTML, like Gecko) Chrome/60.0.3112.90 Safari/537.36',\n",
    "    'Mozilla/5.0 (Windows NT 5.1; Win64; x64) AppleWebKit/537.36 (KHTML, like Gecko) Chrome/60.0.3112.90 Safari/537.36',\n",
    "    'Mozilla/5.0 (Windows NT 6.2; Win64; x64) AppleWebKit/537.36 (KHTML, like Gecko) Chrome/60.0.3112.90 Safari/537.36',\n",
    "    'Mozilla/5.0 (X11; Linux x86_64) AppleWebKit/537.36 (KHTML, like Gecko) Chrome/44.0.2403.157 Safari/537.36',\n",
    "    'Mozilla/5.0 (Windows NT 6.3; Win64; x64) AppleWebKit/537.36 (KHTML, like Gecko) Chrome/60.0.3112.113 Safari/537.36',\n",
    "    'Mozilla/5.0 (Windows NT 10.0; Win64; x64) AppleWebKit/537.36 (KHTML, like Gecko) Chrome/57.0.2987.133 Safari/537.36',\n",
    "    'Mozilla/5.0 (Windows NT 6.1; Win64; x64) AppleWebKit/537.36 (KHTML, like Gecko) Chrome/57.0.2987.133 Safari/537.36',\n",
    "    'Mozilla/5.0 (Windows NT 10.0; Win64; x64) AppleWebKit/537.36 (KHTML, like Gecko) Chrome/55.0.2883.87 Safari/537.36',\n",
    "    'Mozilla/5.0 (Windows NT 6.1; Win64; x64) AppleWebKit/537.36 (KHTML, like Gecko) Chrome/55.0.2883.87 Safari/537.36',\n",
    "    #Firefox\n",
    "    'Mozilla/4.0 (compatible; MSIE 9.0; Windows NT 6.1)',\n",
    "    'Mozilla/5.0 (Windows NT 6.1; WOW64; Trident/7.0; rv:11.0) like Gecko',\n",
    "    'Mozilla/5.0 (compatible; MSIE 9.0; Windows NT 6.1; WOW64; Trident/5.0)',\n",
    "    'Mozilla/5.0 (Windows NT 6.1; Trident/7.0; rv:11.0) like Gecko',\n",
    "    'Mozilla/5.0 (Windows NT 6.2; WOW64; Trident/7.0; rv:11.0) like Gecko',\n",
    "    'Mozilla/5.0 (Windows NT 10.0; WOW64; Trident/7.0; rv:11.0) like Gecko',\n",
    "    'Mozilla/5.0 (compatible; MSIE 9.0; Windows NT 6.0; Trident/5.0)',\n",
    "    'Mozilla/5.0 (Windows NT 6.3; WOW64; Trident/7.0; rv:11.0) like Gecko',\n",
    "    'Mozilla/5.0 (compatible; MSIE 9.0; Windows NT 6.1; Trident/5.0)',\n",
    "    'Mozilla/5.0 (Windows NT 6.1; Win64; x64; Trident/7.0; rv:11.0) like Gecko',\n",
    "    'Mozilla/5.0 (compatible; MSIE 10.0; Windows NT 6.1; WOW64; Trident/6.0)',\n",
    "    'Mozilla/5.0 (compatible; MSIE 10.0; Windows NT 6.1; Trident/6.0)',\n",
    "    'Mozilla/4.0 (compatible; MSIE 8.0; Windows NT 5.1; Trident/4.0; .NET CLR 2.0.50727; .NET CLR 3.0.4506.2152; .NET CLR 3.5.30729)'\n",
    "    ]\n",
    "    user_agent = random.choice(user_agent_list)\n",
    "    headers = {'User-Agent': user_agent}\n",
    "    return headers"
   ]
  },
  {
   "cell_type": "code",
   "execution_count": null,
   "metadata": {},
   "outputs": [],
   "source": [
    "def search(company):\n",
    "    # Step 1: Search for companies using companies house website \n",
    "    # https://beta.companieshouse.gov.uk/search?q=\n",
    "    response = requests.get('https://beta.companieshouse.gov.uk/search/companies?q='+company['name'], headers=chooseHeaderRandomly())\n",
    "    html = BeautifulSoup(response.text, \"lxml\")\n",
    "    \n",
    "    search_results = html.find('ul',id=\"results\").find_all('li', 'type-company')\n",
    "    candidates = []\n",
    "    # Step 2: Check how well each search result matches the company information in the given file.\n",
    "    for search_result in search_results:\n",
    "        score = 0\n",
    "        \n",
    "        # Criterion 1 (company name):\n",
    "        result_name = search_result.find('a').text\n",
    "        # Jaro distance is used to measure how similar the company name in the search result is to the company name used to conduct the search.\n",
    "        # The higher the Jaro distance for two strings is, the more similar the strings are.\n",
    "        # Source: https://rosettacode.org/wiki/Jaro_distance\n",
    "        name_similarity = jellyfish.jaro_distance(result_name, company['name'])\n",
    "        name_matched = True if name_similarity > 2/3 else False\n",
    "        score += name_similarity\n",
    "        \n",
    "        p_list = search_result.find_all('p')\n",
    "        # Get Company Number\n",
    "        company_number = p_list[0].find('strong')\n",
    "        if company_number:\n",
    "            company_number = company_number.text\n",
    "        \n",
    "        # Criterion 2 (city):\n",
    "        result_address = p_list[1]\n",
    "        if result_address:\n",
    "            result_address = result_address.text\n",
    "        city_matched = True if any([re.search(, result_address) for city in company['city'].split(' / ')]) else False\n",
    "        if city_matched:\n",
    "            score += 1\n",
    "        \n",
    "        # Criterion 3 (officer):\n",
    "        result_officer = ''\n",
    "        officers = get_officers(company_number)\n",
    "        officer_matched = False\n",
    "        for officer in officers:\n",
    "            no_hyphen_officer = ' '.join(reversed(officer.replace(\"'\").replace('-', '').split(', ')))\n",
    "            officer_name_similarity = jellyfish.jaro_distance(no_hyphen_officer.lower(), company['officer'].lower())\n",
    "            if officer_name_similarity > 0.75:\n",
    "                officer_matched = True\n",
    "                result_officer = officer\n",
    "                score += officer_name_similarity\n",
    "                break\n",
    "        if not officer_matched:\n",
    "            result_officer = '||'.join(officers)\n",
    "\n",
    "def get_officers(company_number):\n",
    "    response = requests.get('https://beta.companieshouse.gov.uk/company/%s/officers' % company_number, headers=chooseHeaderRandomly())\n",
    "    html = BeautifulSoup(response.text, 'lxml')\n",
    "    officers = html.find('div', 'appointments-list')\n",
    "    if officers:\n",
    "        officers = list(map(lambda x: x.text,officers.find_all('a')))\n",
    "    else:\n",
    "        officers = []\n",
    "    return officers\n",
    "    \n",
    "search(companies.iloc[0])"
   ]
  }
 ],
 "metadata": {
  "kernelspec": {
   "display_name": "Python 3",
   "language": "python",
   "name": "python3"
  },
  "language_info": {
   "codemirror_mode": {
    "name": "ipython",
    "version": 3
   },
   "file_extension": ".py",
   "mimetype": "text/x-python",
   "name": "python",
   "nbconvert_exporter": "python",
   "pygments_lexer": "ipython3",
   "version": "3.6.8"
  }
 },
 "nbformat": 4,
 "nbformat_minor": 2
}
